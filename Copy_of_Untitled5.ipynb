{
  "nbformat": 4,
  "nbformat_minor": 0,
  "metadata": {
    "colab": {
      "provenance": [],
      "authorship_tag": "ABX9TyPjLRHjbJv1K3JDvpsjgwSe",
      "include_colab_link": true
    },
    "kernelspec": {
      "name": "python3",
      "display_name": "Python 3"
    },
    "language_info": {
      "name": "python"
    }
  },
  "cells": [
    {
      "cell_type": "markdown",
      "metadata": {
        "id": "view-in-github",
        "colab_type": "text"
      },
      "source": [
        "<a href=\"https://colab.research.google.com/github/Tejasisnothere/Django-Projects/blob/main/Copy_of_Untitled5.ipynb\" target=\"_parent\"><img src=\"https://colab.research.google.com/assets/colab-badge.svg\" alt=\"Open In Colab\"/></a>"
      ]
    },
    {
      "cell_type": "code",
      "source": [
        "import requests\n",
        "\n",
        "# Define the location (e.g., Mumbai)\n",
        "location_name = \"Pune\"\n",
        "\n",
        "# Overpass API Query\n",
        "overpass_url = \"http://overpass-api.de/api/interpreter\"\n",
        "query = f\"\"\"\n",
        "[out:json];\n",
        "area[name=\"{location_name}\"]->.searchArea;\n",
        "node[\"highway\"=\"street_lamp\"](area.searchArea);\n",
        "out body;\n",
        "\"\"\"\n",
        "\n",
        "# Make API Request\n",
        "response = requests.get(overpass_url, params={'data': query})\n",
        "data = response.json()\n",
        "\n",
        "# Extract and Print Streetlight Locations\n",
        "for element in data['elements']:\n",
        "    lat = element['lat']\n",
        "    lon = element['lon']\n",
        "    print(f\"Streetlight at: Latitude {lat}, Longitude {lon}\")\n"
      ],
      "metadata": {
        "colab": {
          "base_uri": "https://localhost:8080/"
        },
        "id": "4GaVMveWZNHM",
        "outputId": "1b4be89a-b8e7-4d7a-ba7f-66254ace4616"
      },
      "execution_count": null,
      "outputs": [
        {
          "output_type": "stream",
          "name": "stdout",
          "text": [
            "Streetlight at: Latitude 18.594627, Longitude 73.7695315\n",
            "Streetlight at: Latitude 18.5947395, Longitude 73.7695249\n",
            "Streetlight at: Latitude 18.594597, Longitude 73.7694269\n",
            "Streetlight at: Latitude 18.5947212, Longitude 73.7694464\n",
            "Streetlight at: Latitude 18.5534189, Longitude 73.8070036\n",
            "Streetlight at: Latitude 18.553337, Longitude 73.8078492\n",
            "Streetlight at: Latitude 18.5533699, Longitude 73.8075538\n",
            "Streetlight at: Latitude 18.5533315, Longitude 73.8080278\n",
            "Streetlight at: Latitude 18.5533124, Longitude 73.8082524\n",
            "Streetlight at: Latitude 18.5532904, Longitude 73.8086662\n",
            "Streetlight at: Latitude 18.5538107, Longitude 73.8093781\n",
            "Streetlight at: Latitude 18.5952602, Longitude 73.7683788\n",
            "Streetlight at: Latitude 18.5986501, Longitude 73.7697232\n",
            "Streetlight at: Latitude 18.5946045, Longitude 73.7732588\n",
            "Streetlight at: Latitude 18.5945074, Longitude 73.7732541\n",
            "Streetlight at: Latitude 18.5979011, Longitude 73.7636948\n",
            "Streetlight at: Latitude 18.6113508, Longitude 73.7835589\n",
            "Streetlight at: Latitude 18.6054628, Longitude 73.7727673\n",
            "Streetlight at: Latitude 18.5965691, Longitude 73.7693312\n",
            "Streetlight at: Latitude 18.5964157, Longitude 73.7693138\n",
            "Streetlight at: Latitude 18.59687, Longitude 73.7693775\n",
            "Streetlight at: Latitude 18.5956143, Longitude 73.7692222\n",
            "Streetlight at: Latitude 18.5877183, Longitude 73.7836302\n",
            "Streetlight at: Latitude 18.5902474, Longitude 73.7733549\n",
            "Streetlight at: Latitude 18.597031, Longitude 73.7943196\n",
            "Streetlight at: Latitude 18.597108, Longitude 73.7947945\n",
            "Streetlight at: Latitude 18.5970686, Longitude 73.7934051\n",
            "Streetlight at: Latitude 18.5969911, Longitude 73.7913888\n",
            "Streetlight at: Latitude 18.5971042, Longitude 73.7938168\n",
            "Streetlight at: Latitude 18.5969453, Longitude 73.7915718\n",
            "Streetlight at: Latitude 18.5972066, Longitude 73.7949648\n",
            "Streetlight at: Latitude 18.5974982, Longitude 73.7959941\n",
            "Streetlight at: Latitude 18.5974025, Longitude 73.7958606\n",
            "Streetlight at: Latitude 18.5973497, Longitude 73.7957441\n",
            "Streetlight at: Latitude 18.5969961, Longitude 73.7930786\n",
            "Streetlight at: Latitude 18.5970781, Longitude 73.7923933\n",
            "Streetlight at: Latitude 18.5970616, Longitude 73.7945571\n",
            "Streetlight at: Latitude 18.5968945, Longitude 73.7919836\n",
            "Streetlight at: Latitude 18.5969343, Longitude 73.7917234\n",
            "Streetlight at: Latitude 18.5973247, Longitude 73.7956052\n",
            "Streetlight at: Latitude 18.5970635, Longitude 73.7941488\n",
            "Streetlight at: Latitude 18.5972575, Longitude 73.7951504\n",
            "Streetlight at: Latitude 18.5972828, Longitude 73.7954396\n",
            "Streetlight at: Latitude 18.597141, Longitude 73.7935647\n",
            "Streetlight at: Latitude 18.5969739, Longitude 73.792921\n",
            "Streetlight at: Latitude 18.5970241, Longitude 73.7932032\n",
            "Streetlight at: Latitude 18.5970406, Longitude 73.7912419\n",
            "Streetlight at: Latitude 18.5972929, Longitude 73.7952719\n",
            "Streetlight at: Latitude 18.5970063, Longitude 73.7927822\n",
            "Streetlight at: Latitude 18.5970158, Longitude 73.7925897\n",
            "Streetlight at: Latitude 18.5886937, Longitude 73.7603119\n",
            "Streetlight at: Latitude 18.5195169, Longitude 73.7803215\n",
            "Streetlight at: Latitude 18.5990003, Longitude 73.7443601\n",
            "Streetlight at: Latitude 18.5920562, Longitude 73.7589457\n",
            "Streetlight at: Latitude 18.5919869, Longitude 73.7584887\n",
            "Streetlight at: Latitude 18.5919639, Longitude 73.7582079\n",
            "Streetlight at: Latitude 18.5919492, Longitude 73.7579487\n",
            "Streetlight at: Latitude 18.5920036, Longitude 73.757722\n",
            "Streetlight at: Latitude 18.5923025, Longitude 73.7592607\n",
            "Streetlight at: Latitude 18.5922678, Longitude 73.7590239\n",
            "Streetlight at: Latitude 18.5922447, Longitude 73.7587769\n",
            "Streetlight at: Latitude 18.5922116, Longitude 73.7585426\n",
            "Streetlight at: Latitude 18.5921781, Longitude 73.758302\n",
            "Streetlight at: Latitude 18.5921474, Longitude 73.7580725\n",
            "Streetlight at: Latitude 18.5921358, Longitude 73.7578235\n",
            "Streetlight at: Latitude 18.5921213, Longitude 73.7575909\n",
            "Streetlight at: Latitude 18.5920963, Longitude 73.7573407\n",
            "Streetlight at: Latitude 18.5920829, Longitude 73.7570998\n",
            "Streetlight at: Latitude 18.5920636, Longitude 73.7568508\n",
            "Streetlight at: Latitude 18.5920568, Longitude 73.7566232\n",
            "Streetlight at: Latitude 18.5920626, Longitude 73.7563782\n",
            "Streetlight at: Latitude 18.5920626, Longitude 73.7561323\n",
            "Streetlight at: Latitude 18.5920611, Longitude 73.7558904\n",
            "Streetlight at: Latitude 18.5920587, Longitude 73.7556017\n",
            "Streetlight at: Latitude 18.5920443, Longitude 73.7553476\n",
            "Streetlight at: Latitude 18.5921192, Longitude 73.7592177\n",
            "Streetlight at: Latitude 18.5922039, Longitude 73.759189\n"
          ]
        }
      ]
    },
    {
      "cell_type": "code",
      "source": [
        "import requests\n",
        "import folium\n",
        "\n",
        "# Define the location (e.g., Mumbai)\n",
        "location_name = \"Mumbai\"\n",
        "\n",
        "# Overpass API Query\n",
        "overpass_url = \"http://overpass-api.de/api/interpreter\"\n",
        "query = f\"\"\"\n",
        "[out:json];\n",
        "area[name=\"{location_name}\"]->.searchArea;\n",
        "node[\"highway\"=\"street_lamp\"](area.searchArea);\n",
        "out body;\n",
        "\"\"\"\n",
        "\n",
        "# Make API Request\n",
        "response = requests.get(overpass_url, params={'data': query})\n",
        "data = response.json()\n",
        "\n",
        "# Create a map centered on Mumbai\n",
        "map_center = [19.0760, 72.8777]  # Mumbai coordinates\n",
        "mymap = folium.Map(location=map_center, zoom_start=12)\n",
        "\n",
        "# Add streetlights to the map\n",
        "streetlight_count = 0\n",
        "for element in data['elements']:\n",
        "    lat = element['lat']\n",
        "    lon = element['lon']\n",
        "    streetlight_count += 1\n",
        "    folium.CircleMarker(\n",
        "        location=[lat, lon],\n",
        "        radius=2,\n",
        "        color='yellow',\n",
        "        fill=True,\n",
        "        fill_opacity=0.7\n",
        "    ).add_to(mymap)\n",
        "\n",
        "print(f\"Total streetlights found: {streetlight_count}\")\n",
        "mymap.save('mumbai_streetlights.html')\n"
      ],
      "metadata": {
        "colab": {
          "base_uri": "https://localhost:8080/"
        },
        "id": "EbI721ZbZNqf",
        "outputId": "73d811ba-0bc6-454f-f356-6b6bb9762485"
      },
      "execution_count": null,
      "outputs": [
        {
          "output_type": "stream",
          "name": "stdout",
          "text": [
            "Total streetlights found: 35\n"
          ]
        }
      ]
    },
    {
      "cell_type": "code",
      "source": [
        "import numpy as np\n",
        "from sklearn.neighbors import KernelDensity\n",
        "\n",
        "def calculate_lighting_density(streetlight_coords, grid_points, bandwidth=0.001):\n",
        "    \"\"\"\n",
        "    Calculate the streetlight density at specific points using Kernel Density Estimation.\n",
        "\n",
        "    Parameters:\n",
        "    - streetlight_coords: List of [lat, lon] coordinates of streetlights\n",
        "    - grid_points: Points where we want to estimate density\n",
        "    - bandwidth: KDE bandwidth parameter (controls smoothing)\n",
        "\n",
        "    Returns:\n",
        "    - Array of density values at each grid point\n",
        "    \"\"\"\n",
        "    # Fit KDE model to streetlight locations\n",
        "    kde = KernelDensity(bandwidth=bandwidth, metric='haversine', kernel='gaussian')\n",
        "    kde.fit(np.radians(streetlight_coords))\n",
        "\n",
        "    # Calculate density at grid points\n",
        "    density = np.exp(kde.score_samples(np.radians(grid_points)))\n",
        "\n",
        "    # Normalize to 0-100 scale for safety rating\n",
        "    if len(density) > 0:\n",
        "        min_density = min(density)\n",
        "        max_density = max(density)\n",
        "        if max_density > min_density:\n",
        "            normalized_density = 100 * (density - min_density) / (max_density - min_density)\n",
        "        else:\n",
        "            normalized_density = np.zeros_like(density)\n",
        "    else:\n",
        "        normalized_density = np.zeros_like(density)\n",
        "\n",
        "    return normalized_density\n",
        "\n"
      ],
      "metadata": {
        "id": "VLW1HrOGakoE"
      },
      "execution_count": null,
      "outputs": []
    },
    {
      "cell_type": "code",
      "source": [
        "from selenium import webdriver\n",
        "from selenium.webdriver.common.by import By\n",
        "from selenium.webdriver.common.keys import Keys\n",
        "import time\n",
        "\n",
        "# Set up Selenium WebDriver (Ensure you have the WebDriver installed for your browser)\n",
        "driver = webdriver.Edge()  # You can use Firefox, Edge, etc.\n",
        "\n",
        "# Open the target website\n",
        "driver.get(\"https://www.lightpollutionmap.info\")  # Replace with the actual website URL\n",
        "\n",
        "# Locate the search bar (Modify 'name' or 'id' based on inspection)\n",
        "search_box = driver.find_element(By.NAME, \"searchBox\")  # Replace 'q' with actual field name\n",
        "\n",
        "# Enter the search query\n",
        "search_query = \"Mumbai, India\"  # Replace with your search input\n",
        "search_box.send_keys(search_query)\n",
        "search_box.send_keys(Keys.RETURN)  # Simulate pressing Enter\n",
        "\n",
        "# Wait for results to load\n",
        "time.sleep(3)  # Adjust based on website response time\n",
        "\n",
        "# Extract results (Modify the selector based on website structure)\n",
        "results = driver.find_elements(By.CSS_SELECTOR, \".ui-autocomplete-input ui-autocomplete-loading\")  # Replace with actual class\n",
        "\n",
        "# Print results\n",
        "for result in results:\n",
        "    print(result.text)\n",
        "\n",
        "# Close the browser\n",
        "driver.quit()\n"
      ],
      "metadata": {
        "id": "PE-Kgj9Vasz7",
        "colab": {
          "base_uri": "https://localhost:8080/",
          "height": 703
        },
        "outputId": "2b33bb50-f559-4739-ecab-6556101e85c2"
      },
      "execution_count": null,
      "outputs": [
        {
          "output_type": "error",
          "ename": "SessionNotCreatedException",
          "evalue": "Message: session not created: probably user data directory is already in use, please specify a unique value for --user-data-dir argument, or don't use --user-data-dir\nStacktrace:\n#0 0x59def404668e <unknown>\n#1 0x59def3aa5c36 <unknown>\n#2 0x59def3ae19bf <unknown>\n#3 0x59def3adafcd <unknown>\n#4 0x59def3b2b083 <unknown>\n#5 0x59def3b2a1af <unknown>\n#6 0x59def3b1b8a3 <unknown>\n#7 0x59def3ae9111 <unknown>\n#8 0x59def3ae9da1 <unknown>\n#9 0x59def4017fc1 <unknown>\n#10 0x59def401b17e <unknown>\n#11 0x59def401ac3b <unknown>\n#12 0x59def401b5a5 <unknown>\n#13 0x59def4005a0b <unknown>\n#14 0x59def401b96c <unknown>\n#15 0x59def3fee5d5 <unknown>\n#16 0x59def4036eb8 <unknown>\n#17 0x59def40370dc <unknown>\n#18 0x59def4045a9c <unknown>\n#19 0x7ed11ef9bac3 <unknown>\n",
          "traceback": [
            "\u001b[0;31m---------------------------------------------------------------------------\u001b[0m",
            "\u001b[0;31mSessionNotCreatedException\u001b[0m                Traceback (most recent call last)",
            "\u001b[0;32m<ipython-input-9-e5d91d46ed0b>\u001b[0m in \u001b[0;36m<cell line: 0>\u001b[0;34m()\u001b[0m\n\u001b[1;32m      5\u001b[0m \u001b[0;34m\u001b[0m\u001b[0m\n\u001b[1;32m      6\u001b[0m \u001b[0;31m# Set up Selenium WebDriver (Ensure you have the WebDriver installed for your browser)\u001b[0m\u001b[0;34m\u001b[0m\u001b[0;34m\u001b[0m\u001b[0m\n\u001b[0;32m----> 7\u001b[0;31m \u001b[0mdriver\u001b[0m \u001b[0;34m=\u001b[0m \u001b[0mwebdriver\u001b[0m\u001b[0;34m.\u001b[0m\u001b[0mEdge\u001b[0m\u001b[0;34m(\u001b[0m\u001b[0;34m)\u001b[0m  \u001b[0;31m# You can use Firefox, Edge, etc.\u001b[0m\u001b[0;34m\u001b[0m\u001b[0;34m\u001b[0m\u001b[0m\n\u001b[0m\u001b[1;32m      8\u001b[0m \u001b[0;34m\u001b[0m\u001b[0m\n\u001b[1;32m      9\u001b[0m \u001b[0;31m# Open the target website\u001b[0m\u001b[0;34m\u001b[0m\u001b[0;34m\u001b[0m\u001b[0m\n",
            "\u001b[0;32m/usr/local/lib/python3.11/dist-packages/selenium/webdriver/edge/webdriver.py\u001b[0m in \u001b[0;36m__init__\u001b[0;34m(self, options, service, keep_alive)\u001b[0m\n\u001b[1;32m     43\u001b[0m         \u001b[0moptions\u001b[0m \u001b[0;34m=\u001b[0m \u001b[0moptions\u001b[0m \u001b[0;32mif\u001b[0m \u001b[0moptions\u001b[0m \u001b[0;32melse\u001b[0m \u001b[0mOptions\u001b[0m\u001b[0;34m(\u001b[0m\u001b[0;34m)\u001b[0m\u001b[0;34m\u001b[0m\u001b[0;34m\u001b[0m\u001b[0m\n\u001b[1;32m     44\u001b[0m \u001b[0;34m\u001b[0m\u001b[0m\n\u001b[0;32m---> 45\u001b[0;31m         super().__init__(\n\u001b[0m\u001b[1;32m     46\u001b[0m             \u001b[0mbrowser_name\u001b[0m\u001b[0;34m=\u001b[0m\u001b[0mDesiredCapabilities\u001b[0m\u001b[0;34m.\u001b[0m\u001b[0mEDGE\u001b[0m\u001b[0;34m[\u001b[0m\u001b[0;34m\"browserName\"\u001b[0m\u001b[0;34m]\u001b[0m\u001b[0;34m,\u001b[0m\u001b[0;34m\u001b[0m\u001b[0;34m\u001b[0m\u001b[0m\n\u001b[1;32m     47\u001b[0m             \u001b[0mvendor_prefix\u001b[0m\u001b[0;34m=\u001b[0m\u001b[0;34m\"ms\"\u001b[0m\u001b[0;34m,\u001b[0m\u001b[0;34m\u001b[0m\u001b[0;34m\u001b[0m\u001b[0m\n",
            "\u001b[0;32m/usr/local/lib/python3.11/dist-packages/selenium/webdriver/chromium/webdriver.py\u001b[0m in \u001b[0;36m__init__\u001b[0;34m(self, browser_name, vendor_prefix, options, service, keep_alive)\u001b[0m\n\u001b[1;32m     64\u001b[0m \u001b[0;34m\u001b[0m\u001b[0m\n\u001b[1;32m     65\u001b[0m         \u001b[0;32mtry\u001b[0m\u001b[0;34m:\u001b[0m\u001b[0;34m\u001b[0m\u001b[0;34m\u001b[0m\u001b[0m\n\u001b[0;32m---> 66\u001b[0;31m             \u001b[0msuper\u001b[0m\u001b[0;34m(\u001b[0m\u001b[0;34m)\u001b[0m\u001b[0;34m.\u001b[0m\u001b[0m__init__\u001b[0m\u001b[0;34m(\u001b[0m\u001b[0mcommand_executor\u001b[0m\u001b[0;34m=\u001b[0m\u001b[0mexecutor\u001b[0m\u001b[0;34m,\u001b[0m \u001b[0moptions\u001b[0m\u001b[0;34m=\u001b[0m\u001b[0moptions\u001b[0m\u001b[0;34m)\u001b[0m\u001b[0;34m\u001b[0m\u001b[0;34m\u001b[0m\u001b[0m\n\u001b[0m\u001b[1;32m     67\u001b[0m         \u001b[0;32mexcept\u001b[0m \u001b[0mException\u001b[0m\u001b[0;34m:\u001b[0m\u001b[0;34m\u001b[0m\u001b[0;34m\u001b[0m\u001b[0m\n\u001b[1;32m     68\u001b[0m             \u001b[0mself\u001b[0m\u001b[0;34m.\u001b[0m\u001b[0mquit\u001b[0m\u001b[0;34m(\u001b[0m\u001b[0;34m)\u001b[0m\u001b[0;34m\u001b[0m\u001b[0;34m\u001b[0m\u001b[0m\n",
            "\u001b[0;32m/usr/local/lib/python3.11/dist-packages/selenium/webdriver/remote/webdriver.py\u001b[0m in \u001b[0;36m__init__\u001b[0;34m(self, command_executor, keep_alive, file_detector, options, locator_converter, web_element_cls, client_config)\u001b[0m\n\u001b[1;32m    248\u001b[0m         \u001b[0mself\u001b[0m\u001b[0;34m.\u001b[0m\u001b[0m_authenticator_id\u001b[0m \u001b[0;34m=\u001b[0m \u001b[0;32mNone\u001b[0m\u001b[0;34m\u001b[0m\u001b[0;34m\u001b[0m\u001b[0m\n\u001b[1;32m    249\u001b[0m         \u001b[0mself\u001b[0m\u001b[0;34m.\u001b[0m\u001b[0mstart_client\u001b[0m\u001b[0;34m(\u001b[0m\u001b[0;34m)\u001b[0m\u001b[0;34m\u001b[0m\u001b[0;34m\u001b[0m\u001b[0m\n\u001b[0;32m--> 250\u001b[0;31m         \u001b[0mself\u001b[0m\u001b[0;34m.\u001b[0m\u001b[0mstart_session\u001b[0m\u001b[0;34m(\u001b[0m\u001b[0mcapabilities\u001b[0m\u001b[0;34m)\u001b[0m\u001b[0;34m\u001b[0m\u001b[0;34m\u001b[0m\u001b[0m\n\u001b[0m\u001b[1;32m    251\u001b[0m         \u001b[0mself\u001b[0m\u001b[0;34m.\u001b[0m\u001b[0m_fedcm\u001b[0m \u001b[0;34m=\u001b[0m \u001b[0mFedCM\u001b[0m\u001b[0;34m(\u001b[0m\u001b[0mself\u001b[0m\u001b[0;34m)\u001b[0m\u001b[0;34m\u001b[0m\u001b[0;34m\u001b[0m\u001b[0m\n\u001b[1;32m    252\u001b[0m \u001b[0;34m\u001b[0m\u001b[0m\n",
            "\u001b[0;32m/usr/local/lib/python3.11/dist-packages/selenium/webdriver/remote/webdriver.py\u001b[0m in \u001b[0;36mstart_session\u001b[0;34m(self, capabilities)\u001b[0m\n\u001b[1;32m    340\u001b[0m \u001b[0;34m\u001b[0m\u001b[0m\n\u001b[1;32m    341\u001b[0m         \u001b[0mcaps\u001b[0m \u001b[0;34m=\u001b[0m \u001b[0m_create_caps\u001b[0m\u001b[0;34m(\u001b[0m\u001b[0mcapabilities\u001b[0m\u001b[0;34m)\u001b[0m\u001b[0;34m\u001b[0m\u001b[0;34m\u001b[0m\u001b[0m\n\u001b[0;32m--> 342\u001b[0;31m         \u001b[0mresponse\u001b[0m \u001b[0;34m=\u001b[0m \u001b[0mself\u001b[0m\u001b[0;34m.\u001b[0m\u001b[0mexecute\u001b[0m\u001b[0;34m(\u001b[0m\u001b[0mCommand\u001b[0m\u001b[0;34m.\u001b[0m\u001b[0mNEW_SESSION\u001b[0m\u001b[0;34m,\u001b[0m \u001b[0mcaps\u001b[0m\u001b[0;34m)\u001b[0m\u001b[0;34m[\u001b[0m\u001b[0;34m\"value\"\u001b[0m\u001b[0;34m]\u001b[0m\u001b[0;34m\u001b[0m\u001b[0;34m\u001b[0m\u001b[0m\n\u001b[0m\u001b[1;32m    343\u001b[0m         \u001b[0mself\u001b[0m\u001b[0;34m.\u001b[0m\u001b[0msession_id\u001b[0m \u001b[0;34m=\u001b[0m \u001b[0mresponse\u001b[0m\u001b[0;34m.\u001b[0m\u001b[0mget\u001b[0m\u001b[0;34m(\u001b[0m\u001b[0;34m\"sessionId\"\u001b[0m\u001b[0;34m)\u001b[0m\u001b[0;34m\u001b[0m\u001b[0;34m\u001b[0m\u001b[0m\n\u001b[1;32m    344\u001b[0m         \u001b[0mself\u001b[0m\u001b[0;34m.\u001b[0m\u001b[0mcaps\u001b[0m \u001b[0;34m=\u001b[0m \u001b[0mresponse\u001b[0m\u001b[0;34m.\u001b[0m\u001b[0mget\u001b[0m\u001b[0;34m(\u001b[0m\u001b[0;34m\"capabilities\"\u001b[0m\u001b[0;34m)\u001b[0m\u001b[0;34m\u001b[0m\u001b[0;34m\u001b[0m\u001b[0m\n",
            "\u001b[0;32m/usr/local/lib/python3.11/dist-packages/selenium/webdriver/remote/webdriver.py\u001b[0m in \u001b[0;36mexecute\u001b[0;34m(self, driver_command, params)\u001b[0m\n\u001b[1;32m    427\u001b[0m         \u001b[0mresponse\u001b[0m \u001b[0;34m=\u001b[0m \u001b[0mself\u001b[0m\u001b[0;34m.\u001b[0m\u001b[0mcommand_executor\u001b[0m\u001b[0;34m.\u001b[0m\u001b[0mexecute\u001b[0m\u001b[0;34m(\u001b[0m\u001b[0mdriver_command\u001b[0m\u001b[0;34m,\u001b[0m \u001b[0mparams\u001b[0m\u001b[0;34m)\u001b[0m\u001b[0;34m\u001b[0m\u001b[0;34m\u001b[0m\u001b[0m\n\u001b[1;32m    428\u001b[0m         \u001b[0;32mif\u001b[0m \u001b[0mresponse\u001b[0m\u001b[0;34m:\u001b[0m\u001b[0;34m\u001b[0m\u001b[0;34m\u001b[0m\u001b[0m\n\u001b[0;32m--> 429\u001b[0;31m             \u001b[0mself\u001b[0m\u001b[0;34m.\u001b[0m\u001b[0merror_handler\u001b[0m\u001b[0;34m.\u001b[0m\u001b[0mcheck_response\u001b[0m\u001b[0;34m(\u001b[0m\u001b[0mresponse\u001b[0m\u001b[0;34m)\u001b[0m\u001b[0;34m\u001b[0m\u001b[0;34m\u001b[0m\u001b[0m\n\u001b[0m\u001b[1;32m    430\u001b[0m             \u001b[0mresponse\u001b[0m\u001b[0;34m[\u001b[0m\u001b[0;34m\"value\"\u001b[0m\u001b[0;34m]\u001b[0m \u001b[0;34m=\u001b[0m \u001b[0mself\u001b[0m\u001b[0;34m.\u001b[0m\u001b[0m_unwrap_value\u001b[0m\u001b[0;34m(\u001b[0m\u001b[0mresponse\u001b[0m\u001b[0;34m.\u001b[0m\u001b[0mget\u001b[0m\u001b[0;34m(\u001b[0m\u001b[0;34m\"value\"\u001b[0m\u001b[0;34m,\u001b[0m \u001b[0;32mNone\u001b[0m\u001b[0;34m)\u001b[0m\u001b[0;34m)\u001b[0m\u001b[0;34m\u001b[0m\u001b[0;34m\u001b[0m\u001b[0m\n\u001b[1;32m    431\u001b[0m             \u001b[0;32mreturn\u001b[0m \u001b[0mresponse\u001b[0m\u001b[0;34m\u001b[0m\u001b[0;34m\u001b[0m\u001b[0m\n",
            "\u001b[0;32m/usr/local/lib/python3.11/dist-packages/selenium/webdriver/remote/errorhandler.py\u001b[0m in \u001b[0;36mcheck_response\u001b[0;34m(self, response)\u001b[0m\n\u001b[1;32m    230\u001b[0m                 \u001b[0malert_text\u001b[0m \u001b[0;34m=\u001b[0m \u001b[0mvalue\u001b[0m\u001b[0;34m[\u001b[0m\u001b[0;34m\"alert\"\u001b[0m\u001b[0;34m]\u001b[0m\u001b[0;34m.\u001b[0m\u001b[0mget\u001b[0m\u001b[0;34m(\u001b[0m\u001b[0;34m\"text\"\u001b[0m\u001b[0;34m)\u001b[0m\u001b[0;34m\u001b[0m\u001b[0;34m\u001b[0m\u001b[0m\n\u001b[1;32m    231\u001b[0m             \u001b[0;32mraise\u001b[0m \u001b[0mexception_class\u001b[0m\u001b[0;34m(\u001b[0m\u001b[0mmessage\u001b[0m\u001b[0;34m,\u001b[0m \u001b[0mscreen\u001b[0m\u001b[0;34m,\u001b[0m \u001b[0mstacktrace\u001b[0m\u001b[0;34m,\u001b[0m \u001b[0malert_text\u001b[0m\u001b[0;34m)\u001b[0m  \u001b[0;31m# type: ignore[call-arg]  # mypy is not smart enough here\u001b[0m\u001b[0;34m\u001b[0m\u001b[0;34m\u001b[0m\u001b[0m\n\u001b[0;32m--> 232\u001b[0;31m         \u001b[0;32mraise\u001b[0m \u001b[0mexception_class\u001b[0m\u001b[0;34m(\u001b[0m\u001b[0mmessage\u001b[0m\u001b[0;34m,\u001b[0m \u001b[0mscreen\u001b[0m\u001b[0;34m,\u001b[0m \u001b[0mstacktrace\u001b[0m\u001b[0;34m)\u001b[0m\u001b[0;34m\u001b[0m\u001b[0;34m\u001b[0m\u001b[0m\n\u001b[0m",
            "\u001b[0;31mSessionNotCreatedException\u001b[0m: Message: session not created: probably user data directory is already in use, please specify a unique value for --user-data-dir argument, or don't use --user-data-dir\nStacktrace:\n#0 0x59def404668e <unknown>\n#1 0x59def3aa5c36 <unknown>\n#2 0x59def3ae19bf <unknown>\n#3 0x59def3adafcd <unknown>\n#4 0x59def3b2b083 <unknown>\n#5 0x59def3b2a1af <unknown>\n#6 0x59def3b1b8a3 <unknown>\n#7 0x59def3ae9111 <unknown>\n#8 0x59def3ae9da1 <unknown>\n#9 0x59def4017fc1 <unknown>\n#10 0x59def401b17e <unknown>\n#11 0x59def401ac3b <unknown>\n#12 0x59def401b5a5 <unknown>\n#13 0x59def4005a0b <unknown>\n#14 0x59def401b96c <unknown>\n#15 0x59def3fee5d5 <unknown>\n#16 0x59def4036eb8 <unknown>\n#17 0x59def40370dc <unknown>\n#18 0x59def4045a9c <unknown>\n#19 0x7ed11ef9bac3 <unknown>\n"
          ]
        }
      ]
    },
    {
      "cell_type": "code",
      "source": [
        "pip install selenium"
      ],
      "metadata": {
        "colab": {
          "base_uri": "https://localhost:8080/",
          "height": 668
        },
        "id": "C07lfBGouZtp",
        "outputId": "8ef07519-f594-419d-d652-aabc402d19ac"
      },
      "execution_count": null,
      "outputs": [
        {
          "output_type": "error",
          "ename": "SessionNotCreatedException",
          "evalue": "Message: session not created: probably user data directory is already in use, please specify a unique value for --user-data-dir argument, or don't use --user-data-dir\nStacktrace:\n#0 0x5c48eb6c8ffa <unknown>\n#1 0x5c48eb187970 <unknown>\n#2 0x5c48eb1c142a <unknown>\n#3 0x5c48eb1bd18f <unknown>\n#4 0x5c48eb20dbd9 <unknown>\n#5 0x5c48eb20d106 <unknown>\n#6 0x5c48eb1ff063 <unknown>\n#7 0x5c48eb1cb328 <unknown>\n#8 0x5c48eb1cc491 <unknown>\n#9 0x5c48eb69042b <unknown>\n#10 0x5c48eb6942ec <unknown>\n#11 0x5c48eb677a22 <unknown>\n#12 0x5c48eb694e64 <unknown>\n#13 0x5c48eb65bbef <unknown>\n#14 0x5c48eb6b7558 <unknown>\n#15 0x5c48eb6b7736 <unknown>\n#16 0x5c48eb6c7e76 <unknown>\n#17 0x7c3d426d7ac3 <unknown>\n",
          "traceback": [
            "\u001b[0;31m---------------------------------------------------------------------------\u001b[0m",
            "\u001b[0;31mSessionNotCreatedException\u001b[0m                Traceback (most recent call last)",
            "\u001b[0;32m<ipython-input-7-a6a5da954e35>\u001b[0m in \u001b[0;36m<cell line: 0>\u001b[0;34m()\u001b[0m\n\u001b[1;32m     11\u001b[0m \u001b[0;34m\u001b[0m\u001b[0m\n\u001b[1;32m     12\u001b[0m \u001b[0;31m# Initialize WebDriver with options\u001b[0m\u001b[0;34m\u001b[0m\u001b[0;34m\u001b[0m\u001b[0m\n\u001b[0;32m---> 13\u001b[0;31m \u001b[0mdriver\u001b[0m \u001b[0;34m=\u001b[0m \u001b[0mwebdriver\u001b[0m\u001b[0;34m.\u001b[0m\u001b[0mChrome\u001b[0m\u001b[0;34m(\u001b[0m\u001b[0moptions\u001b[0m\u001b[0;34m=\u001b[0m\u001b[0mchrome_options\u001b[0m\u001b[0;34m)\u001b[0m\u001b[0;34m\u001b[0m\u001b[0;34m\u001b[0m\u001b[0m\n\u001b[0m\u001b[1;32m     14\u001b[0m \u001b[0;34m\u001b[0m\u001b[0m\n\u001b[1;32m     15\u001b[0m \u001b[0;31m# Open the target website\u001b[0m\u001b[0;34m\u001b[0m\u001b[0;34m\u001b[0m\u001b[0m\n",
            "\u001b[0;32m/usr/local/lib/python3.11/dist-packages/selenium/webdriver/chrome/webdriver.py\u001b[0m in \u001b[0;36m__init__\u001b[0;34m(self, options, service, keep_alive)\u001b[0m\n\u001b[1;32m     43\u001b[0m         \u001b[0moptions\u001b[0m \u001b[0;34m=\u001b[0m \u001b[0moptions\u001b[0m \u001b[0;32mif\u001b[0m \u001b[0moptions\u001b[0m \u001b[0;32melse\u001b[0m \u001b[0mOptions\u001b[0m\u001b[0;34m(\u001b[0m\u001b[0;34m)\u001b[0m\u001b[0;34m\u001b[0m\u001b[0;34m\u001b[0m\u001b[0m\n\u001b[1;32m     44\u001b[0m \u001b[0;34m\u001b[0m\u001b[0m\n\u001b[0;32m---> 45\u001b[0;31m         super().__init__(\n\u001b[0m\u001b[1;32m     46\u001b[0m             \u001b[0mbrowser_name\u001b[0m\u001b[0;34m=\u001b[0m\u001b[0mDesiredCapabilities\u001b[0m\u001b[0;34m.\u001b[0m\u001b[0mCHROME\u001b[0m\u001b[0;34m[\u001b[0m\u001b[0;34m\"browserName\"\u001b[0m\u001b[0;34m]\u001b[0m\u001b[0;34m,\u001b[0m\u001b[0;34m\u001b[0m\u001b[0;34m\u001b[0m\u001b[0m\n\u001b[1;32m     47\u001b[0m             \u001b[0mvendor_prefix\u001b[0m\u001b[0;34m=\u001b[0m\u001b[0;34m\"goog\"\u001b[0m\u001b[0;34m,\u001b[0m\u001b[0;34m\u001b[0m\u001b[0;34m\u001b[0m\u001b[0m\n",
            "\u001b[0;32m/usr/local/lib/python3.11/dist-packages/selenium/webdriver/chromium/webdriver.py\u001b[0m in \u001b[0;36m__init__\u001b[0;34m(self, browser_name, vendor_prefix, options, service, keep_alive)\u001b[0m\n\u001b[1;32m     64\u001b[0m \u001b[0;34m\u001b[0m\u001b[0m\n\u001b[1;32m     65\u001b[0m         \u001b[0;32mtry\u001b[0m\u001b[0;34m:\u001b[0m\u001b[0;34m\u001b[0m\u001b[0;34m\u001b[0m\u001b[0m\n\u001b[0;32m---> 66\u001b[0;31m             \u001b[0msuper\u001b[0m\u001b[0;34m(\u001b[0m\u001b[0;34m)\u001b[0m\u001b[0;34m.\u001b[0m\u001b[0m__init__\u001b[0m\u001b[0;34m(\u001b[0m\u001b[0mcommand_executor\u001b[0m\u001b[0;34m=\u001b[0m\u001b[0mexecutor\u001b[0m\u001b[0;34m,\u001b[0m \u001b[0moptions\u001b[0m\u001b[0;34m=\u001b[0m\u001b[0moptions\u001b[0m\u001b[0;34m)\u001b[0m\u001b[0;34m\u001b[0m\u001b[0;34m\u001b[0m\u001b[0m\n\u001b[0m\u001b[1;32m     67\u001b[0m         \u001b[0;32mexcept\u001b[0m \u001b[0mException\u001b[0m\u001b[0;34m:\u001b[0m\u001b[0;34m\u001b[0m\u001b[0;34m\u001b[0m\u001b[0m\n\u001b[1;32m     68\u001b[0m             \u001b[0mself\u001b[0m\u001b[0;34m.\u001b[0m\u001b[0mquit\u001b[0m\u001b[0;34m(\u001b[0m\u001b[0;34m)\u001b[0m\u001b[0;34m\u001b[0m\u001b[0;34m\u001b[0m\u001b[0m\n",
            "\u001b[0;32m/usr/local/lib/python3.11/dist-packages/selenium/webdriver/remote/webdriver.py\u001b[0m in \u001b[0;36m__init__\u001b[0;34m(self, command_executor, keep_alive, file_detector, options, locator_converter, web_element_cls, client_config)\u001b[0m\n\u001b[1;32m    248\u001b[0m         \u001b[0mself\u001b[0m\u001b[0;34m.\u001b[0m\u001b[0m_authenticator_id\u001b[0m \u001b[0;34m=\u001b[0m \u001b[0;32mNone\u001b[0m\u001b[0;34m\u001b[0m\u001b[0;34m\u001b[0m\u001b[0m\n\u001b[1;32m    249\u001b[0m         \u001b[0mself\u001b[0m\u001b[0;34m.\u001b[0m\u001b[0mstart_client\u001b[0m\u001b[0;34m(\u001b[0m\u001b[0;34m)\u001b[0m\u001b[0;34m\u001b[0m\u001b[0;34m\u001b[0m\u001b[0m\n\u001b[0;32m--> 250\u001b[0;31m         \u001b[0mself\u001b[0m\u001b[0;34m.\u001b[0m\u001b[0mstart_session\u001b[0m\u001b[0;34m(\u001b[0m\u001b[0mcapabilities\u001b[0m\u001b[0;34m)\u001b[0m\u001b[0;34m\u001b[0m\u001b[0;34m\u001b[0m\u001b[0m\n\u001b[0m\u001b[1;32m    251\u001b[0m         \u001b[0mself\u001b[0m\u001b[0;34m.\u001b[0m\u001b[0m_fedcm\u001b[0m \u001b[0;34m=\u001b[0m \u001b[0mFedCM\u001b[0m\u001b[0;34m(\u001b[0m\u001b[0mself\u001b[0m\u001b[0;34m)\u001b[0m\u001b[0;34m\u001b[0m\u001b[0;34m\u001b[0m\u001b[0m\n\u001b[1;32m    252\u001b[0m \u001b[0;34m\u001b[0m\u001b[0m\n",
            "\u001b[0;32m/usr/local/lib/python3.11/dist-packages/selenium/webdriver/remote/webdriver.py\u001b[0m in \u001b[0;36mstart_session\u001b[0;34m(self, capabilities)\u001b[0m\n\u001b[1;32m    340\u001b[0m \u001b[0;34m\u001b[0m\u001b[0m\n\u001b[1;32m    341\u001b[0m         \u001b[0mcaps\u001b[0m \u001b[0;34m=\u001b[0m \u001b[0m_create_caps\u001b[0m\u001b[0;34m(\u001b[0m\u001b[0mcapabilities\u001b[0m\u001b[0;34m)\u001b[0m\u001b[0;34m\u001b[0m\u001b[0;34m\u001b[0m\u001b[0m\n\u001b[0;32m--> 342\u001b[0;31m         \u001b[0mresponse\u001b[0m \u001b[0;34m=\u001b[0m \u001b[0mself\u001b[0m\u001b[0;34m.\u001b[0m\u001b[0mexecute\u001b[0m\u001b[0;34m(\u001b[0m\u001b[0mCommand\u001b[0m\u001b[0;34m.\u001b[0m\u001b[0mNEW_SESSION\u001b[0m\u001b[0;34m,\u001b[0m \u001b[0mcaps\u001b[0m\u001b[0;34m)\u001b[0m\u001b[0;34m[\u001b[0m\u001b[0;34m\"value\"\u001b[0m\u001b[0;34m]\u001b[0m\u001b[0;34m\u001b[0m\u001b[0;34m\u001b[0m\u001b[0m\n\u001b[0m\u001b[1;32m    343\u001b[0m         \u001b[0mself\u001b[0m\u001b[0;34m.\u001b[0m\u001b[0msession_id\u001b[0m \u001b[0;34m=\u001b[0m \u001b[0mresponse\u001b[0m\u001b[0;34m.\u001b[0m\u001b[0mget\u001b[0m\u001b[0;34m(\u001b[0m\u001b[0;34m\"sessionId\"\u001b[0m\u001b[0;34m)\u001b[0m\u001b[0;34m\u001b[0m\u001b[0;34m\u001b[0m\u001b[0m\n\u001b[1;32m    344\u001b[0m         \u001b[0mself\u001b[0m\u001b[0;34m.\u001b[0m\u001b[0mcaps\u001b[0m \u001b[0;34m=\u001b[0m \u001b[0mresponse\u001b[0m\u001b[0;34m.\u001b[0m\u001b[0mget\u001b[0m\u001b[0;34m(\u001b[0m\u001b[0;34m\"capabilities\"\u001b[0m\u001b[0;34m)\u001b[0m\u001b[0;34m\u001b[0m\u001b[0;34m\u001b[0m\u001b[0m\n",
            "\u001b[0;32m/usr/local/lib/python3.11/dist-packages/selenium/webdriver/remote/webdriver.py\u001b[0m in \u001b[0;36mexecute\u001b[0;34m(self, driver_command, params)\u001b[0m\n\u001b[1;32m    427\u001b[0m         \u001b[0mresponse\u001b[0m \u001b[0;34m=\u001b[0m \u001b[0mself\u001b[0m\u001b[0;34m.\u001b[0m\u001b[0mcommand_executor\u001b[0m\u001b[0;34m.\u001b[0m\u001b[0mexecute\u001b[0m\u001b[0;34m(\u001b[0m\u001b[0mdriver_command\u001b[0m\u001b[0;34m,\u001b[0m \u001b[0mparams\u001b[0m\u001b[0;34m)\u001b[0m\u001b[0;34m\u001b[0m\u001b[0;34m\u001b[0m\u001b[0m\n\u001b[1;32m    428\u001b[0m         \u001b[0;32mif\u001b[0m \u001b[0mresponse\u001b[0m\u001b[0;34m:\u001b[0m\u001b[0;34m\u001b[0m\u001b[0;34m\u001b[0m\u001b[0m\n\u001b[0;32m--> 429\u001b[0;31m             \u001b[0mself\u001b[0m\u001b[0;34m.\u001b[0m\u001b[0merror_handler\u001b[0m\u001b[0;34m.\u001b[0m\u001b[0mcheck_response\u001b[0m\u001b[0;34m(\u001b[0m\u001b[0mresponse\u001b[0m\u001b[0;34m)\u001b[0m\u001b[0;34m\u001b[0m\u001b[0;34m\u001b[0m\u001b[0m\n\u001b[0m\u001b[1;32m    430\u001b[0m             \u001b[0mresponse\u001b[0m\u001b[0;34m[\u001b[0m\u001b[0;34m\"value\"\u001b[0m\u001b[0;34m]\u001b[0m \u001b[0;34m=\u001b[0m \u001b[0mself\u001b[0m\u001b[0;34m.\u001b[0m\u001b[0m_unwrap_value\u001b[0m\u001b[0;34m(\u001b[0m\u001b[0mresponse\u001b[0m\u001b[0;34m.\u001b[0m\u001b[0mget\u001b[0m\u001b[0;34m(\u001b[0m\u001b[0;34m\"value\"\u001b[0m\u001b[0;34m,\u001b[0m \u001b[0;32mNone\u001b[0m\u001b[0;34m)\u001b[0m\u001b[0;34m)\u001b[0m\u001b[0;34m\u001b[0m\u001b[0;34m\u001b[0m\u001b[0m\n\u001b[1;32m    431\u001b[0m             \u001b[0;32mreturn\u001b[0m \u001b[0mresponse\u001b[0m\u001b[0;34m\u001b[0m\u001b[0;34m\u001b[0m\u001b[0m\n",
            "\u001b[0;32m/usr/local/lib/python3.11/dist-packages/selenium/webdriver/remote/errorhandler.py\u001b[0m in \u001b[0;36mcheck_response\u001b[0;34m(self, response)\u001b[0m\n\u001b[1;32m    230\u001b[0m                 \u001b[0malert_text\u001b[0m \u001b[0;34m=\u001b[0m \u001b[0mvalue\u001b[0m\u001b[0;34m[\u001b[0m\u001b[0;34m\"alert\"\u001b[0m\u001b[0;34m]\u001b[0m\u001b[0;34m.\u001b[0m\u001b[0mget\u001b[0m\u001b[0;34m(\u001b[0m\u001b[0;34m\"text\"\u001b[0m\u001b[0;34m)\u001b[0m\u001b[0;34m\u001b[0m\u001b[0;34m\u001b[0m\u001b[0m\n\u001b[1;32m    231\u001b[0m             \u001b[0;32mraise\u001b[0m \u001b[0mexception_class\u001b[0m\u001b[0;34m(\u001b[0m\u001b[0mmessage\u001b[0m\u001b[0;34m,\u001b[0m \u001b[0mscreen\u001b[0m\u001b[0;34m,\u001b[0m \u001b[0mstacktrace\u001b[0m\u001b[0;34m,\u001b[0m \u001b[0malert_text\u001b[0m\u001b[0;34m)\u001b[0m  \u001b[0;31m# type: ignore[call-arg]  # mypy is not smart enough here\u001b[0m\u001b[0;34m\u001b[0m\u001b[0;34m\u001b[0m\u001b[0m\n\u001b[0;32m--> 232\u001b[0;31m         \u001b[0;32mraise\u001b[0m \u001b[0mexception_class\u001b[0m\u001b[0;34m(\u001b[0m\u001b[0mmessage\u001b[0m\u001b[0;34m,\u001b[0m \u001b[0mscreen\u001b[0m\u001b[0;34m,\u001b[0m \u001b[0mstacktrace\u001b[0m\u001b[0;34m)\u001b[0m\u001b[0;34m\u001b[0m\u001b[0;34m\u001b[0m\u001b[0m\n\u001b[0m",
            "\u001b[0;31mSessionNotCreatedException\u001b[0m: Message: session not created: probably user data directory is already in use, please specify a unique value for --user-data-dir argument, or don't use --user-data-dir\nStacktrace:\n#0 0x5c48eb6c8ffa <unknown>\n#1 0x5c48eb187970 <unknown>\n#2 0x5c48eb1c142a <unknown>\n#3 0x5c48eb1bd18f <unknown>\n#4 0x5c48eb20dbd9 <unknown>\n#5 0x5c48eb20d106 <unknown>\n#6 0x5c48eb1ff063 <unknown>\n#7 0x5c48eb1cb328 <unknown>\n#8 0x5c48eb1cc491 <unknown>\n#9 0x5c48eb69042b <unknown>\n#10 0x5c48eb6942ec <unknown>\n#11 0x5c48eb677a22 <unknown>\n#12 0x5c48eb694e64 <unknown>\n#13 0x5c48eb65bbef <unknown>\n#14 0x5c48eb6b7558 <unknown>\n#15 0x5c48eb6b7736 <unknown>\n#16 0x5c48eb6c7e76 <unknown>\n#17 0x7c3d426d7ac3 <unknown>\n"
          ]
        }
      ]
    },
    {
      "cell_type": "code",
      "source": [],
      "metadata": {
        "id": "0wtmx2dmubgM"
      },
      "execution_count": null,
      "outputs": []
    }
  ]
}